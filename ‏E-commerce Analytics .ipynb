{
 "cells": [
  {
   "cell_type": "markdown",
   "metadata": {},
   "source": [
    "<p style=\"text-align:center\">\n",
    "    <a href=\"https://skills.network\" target=\"_blank\">\n",
    "    <img src=\"https://cf-courses-data.s3.us.cloud-object-storage.appdomain.cloud/assets/logos/SN_web_lightmode.png\" width=\"200\" alt=\"Skills Network Logo\">\n",
    "    </a>\n",
    "</p>\n"
   ]
  },
  {
   "cell_type": "markdown",
   "metadata": {},
   "source": [
    "# **Project: Insurance Cost Analysis**\n",
    "\n",
    "Estimated time needed: **75** minutes\n",
    "\n",
    "In this project, you have to perform analytics operations on an insurance database that uses the below mentioned parameters.\n",
    "\n",
    "| Parameter |Description| Content type |\n",
    "|---|----|---|\n",
    "|age| Age in years| integer |\n",
    "|gender| Male or Female|integer (1 or 2)|\n",
    "| bmi | Body mass index | float |\n",
    "|no_of_children| Number of children | integer|\n",
    "|smoker| Whether smoker or not | integer (0 or 1)|\n",
    "|region| Which US region - NW, NE, SW, SE | integer (1,2,3 or 4 respectively)| \n",
    "|charges| Annual Insurance charges in USD | float|\n",
    "\n",
    "## Objectives \n",
    "In this project, you will:\n",
    " - Load the data as a `pandas` dataframe\n",
    " - Clean the data, taking care of the blank entries\n",
    " - Run exploratory data analysis (EDA) and identify the attributes that most affect the `charges`\n",
    " - Develop single variable and multi variable Linear Regression models for predicting the `charges`\n",
    " - Use Ridge regression to refine the performance of Linear regression models. \n",
    " \n"
   ]
  },
  {
   "cell_type": "markdown",
   "metadata": {},
   "source": [
    "# Setup\n"
   ]
  },
  {
   "cell_type": "markdown",
   "metadata": {},
   "source": [
    "For this lab, we will be using the following libraries:\n",
    "\n",
    "*   [`pandas`](https://pandas.pydata.org/?utm_medium=Exinfluencer&utm_source=Exinfluencer&utm_content=000026UJ&utm_term=10006555&utm_id=NA-SkillsNetwork-Channel-SkillsNetworkCoursesIBMML0187ENSkillsNetwork31430127-2021-01-01) for managing the data.\n",
    "*   [`numpy`](https://numpy.org/?utm_medium=Exinfluencer&utm_source=Exinfluencer&utm_content=000026UJ&utm_term=10006555&utm_id=NA-SkillsNetwork-Channel-SkillsNetworkCoursesIBMML0187ENSkillsNetwork31430127-2021-01-01) for mathematical operations.\n",
    "*   [`sklearn`](https://scikit-learn.org/stable/?utm_medium=Exinfluencer&utm_source=Exinfluencer&utm_content=000026UJ&utm_term=10006555&utm_id=NA-SkillsNetwork-Channel-SkillsNetworkCoursesIBMML0187ENSkillsNetwork31430127-2021-01-01) for machine learning and machine-learning-pipeline related functions.\n",
    "*   [`seaborn`](https://seaborn.pydata.org/?utm_medium=Exinfluencer&utm_source=Exinfluencer&utm_content=000026UJ&utm_term=10006555&utm_id=NA-SkillsNetwork-Channel-SkillsNetworkCoursesIBMML0187ENSkillsNetwork31430127-2021-01-01) for visualizing the data.\n",
    "*   [`matplotlib`](https://matplotlib.org/?utm_medium=Exinfluencer&utm_source=Exinfluencer&utm_content=000026UJ&utm_term=10006555&utm_id=NA-SkillsNetwork-Channel-SkillsNetworkCoursesIBMML0187ENSkillsNetwork31430127-2021-01-01) for additional plotting tools.\n"
   ]
  },
  {
   "cell_type": "markdown",
   "metadata": {},
   "source": [
    "The following required libraries are __not__ pre-installed in the Skills Network Labs environment. __You will need to run the following cell__ to install them:\n"
   ]
  },
   "cell_type": "code",
   "execution_count": 84,
   "id": "bd286102-4987-4479-aa31-662b1cf84750",
   "metadata": {},
   "outputs": [],
   "source": [
    "import requests\n",
    "import pandas as pd\n",
    "import seaborn as sns\n",
    "import matplotlib.pyplot as plt\n",
    "from sklearn.linear_model import LinearRegression\n",
    "from sklearn.pipeline import Pipeline\n",
    "from sklearn.preprocessing import StandardScaler, PolynomialFeatures\n",
    "from sklearn.model_selection import train_test_split\n",
    "from sklearn.pipeline import make_pipeline\n",
    "from sklearn.impute import SimpleImputer\n",
    "from sklearn.preprocessing import StandardScaler, PolynomialFeatures\n",
    "from sklearn.linear_model import Ridge"
   ]
  },
  {
   "cell_type": "code",
   "execution_count": 63,
   "id": "1f5b98b2-7fa1-4b47-ad6d-1f8de87f13b7",
   "metadata": {},
   "outputs": [
    {
     "name": "stdout",
     "output_type": "stream",
     "text": [
      "   Unnamed: 0          id             date     price  bedrooms  bathrooms  \\\n",
      "0           0  7129300520  20141013T000000  221900.0       3.0       1.00   \n",
      "1           1  6414100192  20141209T000000  538000.0       3.0       2.25   \n",
      "2           2  5631500400  20150225T000000  180000.0       2.0       1.00   \n",
      "3           3  2487200875  20141209T000000  604000.0       4.0       3.00   \n",
      "4           4  1954400510  20150218T000000  510000.0       3.0       2.00   \n",
      "\n",
      "   sqft_living  sqft_lot  floors  waterfront  ...  grade  sqft_above  \\\n",
      "0         1180      5650     1.0           0  ...      7        1180   \n",
      "1         2570      7242     2.0           0  ...      7        2170   \n",
      "2          770     10000     1.0           0  ...      6         770   \n",
      "3         1960      5000     1.0           0  ...      7        1050   \n",
      "4         1680      8080     1.0           0  ...      8        1680   \n",
      "\n",
      "   sqft_basement  yr_built  yr_renovated  zipcode      lat     long  \\\n",
      "0              0      1955             0    98178  47.5112 -122.257   \n",
      "1            400      1951          1991    98125  47.7210 -122.319   \n",
      "2              0      1933             0    98028  47.7379 -122.233   \n",
      "3            910      1965             0    98136  47.5208 -122.393   \n",
      "4              0      1987             0    98074  47.6168 -122.045   \n",
      "\n",
      "   sqft_living15  sqft_lot15  \n",
      "0           1340        5650  \n",
      "1           1690        7639  \n",
      "2           2720        8062  \n",
      "3           1360        5000  \n",
      "4           1800        7503  \n",
      "\n",
      "[5 rows x 22 columns]\n"
     ]
    }
   ],
   "source": [
    "url = \"https://cf-courses-data.s3.us.cloud-object-storage.appdomain.cloud/IBMDeveloperSkillsNetwork-DA0101EN-SkillsNetwork/labs/FinalModule_Coursera/data/kc_house_data_NaN.csv\"\n",
    "response = requests.get(url)\n",
    "\n",
    "if response.status_code == 200:\n",
    "    with open(\"housing.csv\", \"wb\") as f:\n",
    "        f.write(response.content)\n",
    "    df = pd.read_csv(\"housing.csv\")\n",
    "    print(df.head())\n",
    "else:\n",
    "    print(f\"Download failed with status: {response.status_code}\")"
   ]
  },
  {
   "cell_type": "code",
   "execution_count": 15,
   "id": "681b12ed-9db6-45af-9a0d-2f6bdaf0ba96",
   "metadata": {},
   "outputs": [
    {
     "name": "stdout",
     "output_type": "stream",
     "text": [
      "Unnamed: 0         int64\n",
      "id                 int64\n",
      "date              object\n",
      "price            float64\n",
      "bedrooms         float64\n",
      "bathrooms        float64\n",
      "sqft_living        int64\n",
      "sqft_lot           int64\n",
      "floors           float64\n",
      "waterfront         int64\n",
      "view               int64\n",
      "condition          int64\n",
      "grade              int64\n",
      "sqft_above         int64\n",
      "sqft_basement      int64\n",
      "yr_built           int64\n",
      "yr_renovated       int64\n",
      "zipcode            int64\n",
      "lat              float64\n",
      "long             float64\n",
      "sqft_living15      int64\n",
      "sqft_lot15         int64\n",
      "dtype: object\n"
     ]
    }
   ],
   "source": [
    "print(df.dtypes)"
   ]
  },
  {
   "cell_type": "code",
   "execution_count": 25,
   "id": "a84ed164-c24c-4366-98bc-314b808f9f81",
   "metadata": {},
   "outputs": [],
   "source": [
    "df.drop([\"id\",\"Unnamed: 0 \"], axis=1, inplace=True, errors='ignore')"
   ]
  },
  {
   "cell_type": "code",
   "execution_count": 23,
   "id": "cd2c36e4-9182-4abc-9f00-2e0b2b456c6b",
   "metadata": {},
   "outputs": [
    {
     "data": {
      "text/html": [
       "<div>\n",
       "<style scoped>\n",
       "    .dataframe tbody tr th:only-of-type {\n",
       "        vertical-align: middle;\n",
       "    }\n",
       "\n",
       "    .dataframe tbody tr th {\n",
       "        vertical-align: top;\n",
       "    }\n",
       "\n",
       "    .dataframe thead th {\n",
       "        text-align: right;\n",
       "    }\n",
       "</style>\n",
       "<table border=\"1\" class=\"dataframe\">\n",
       "  <thead>\n",
       "    <tr style=\"text-align: right;\">\n",
       "      <th></th>\n",
       "      <th>Unnamed: 0</th>\n",
       "      <th>price</th>\n",
       "      <th>bedrooms</th>\n",
       "      <th>bathrooms</th>\n",
       "      <th>sqft_living</th>\n",
       "      <th>sqft_lot</th>\n",
       "      <th>floors</th>\n",
       "      <th>waterfront</th>\n",
       "      <th>view</th>\n",
       "      <th>condition</th>\n",
       "      <th>grade</th>\n",
       "      <th>sqft_above</th>\n",
       "      <th>sqft_basement</th>\n",
       "      <th>yr_built</th>\n",
       "      <th>yr_renovated</th>\n",
       "      <th>zipcode</th>\n",
       "      <th>lat</th>\n",
       "      <th>long</th>\n",
       "      <th>sqft_living15</th>\n",
       "      <th>sqft_lot15</th>\n",
       "    </tr>\n",
       "  </thead>\n",
       "  <tbody>\n",
       "    <tr>\n",
       "      <th>count</th>\n",
       "      <td>21613.00000</td>\n",
       "      <td>2.161300e+04</td>\n",
       "      <td>21600.000000</td>\n",
       "      <td>21603.000000</td>\n",
       "      <td>21613.000000</td>\n",
       "      <td>2.161300e+04</td>\n",
       "      <td>21613.000000</td>\n",
       "      <td>21613.000000</td>\n",
       "      <td>21613.000000</td>\n",
       "      <td>21613.000000</td>\n",
       "      <td>21613.000000</td>\n",
       "      <td>21613.000000</td>\n",
       "      <td>21613.000000</td>\n",
       "      <td>21613.000000</td>\n",
       "      <td>21613.000000</td>\n",
       "      <td>21613.000000</td>\n",
       "      <td>21613.000000</td>\n",
       "      <td>21613.000000</td>\n",
       "      <td>21613.000000</td>\n",
       "      <td>21613.000000</td>\n",
       "    </tr>\n",
       "    <tr>\n",
       "      <th>mean</th>\n",
       "      <td>10806.00000</td>\n",
       "      <td>5.400881e+05</td>\n",
       "      <td>3.372870</td>\n",
       "      <td>2.115736</td>\n",
       "      <td>2079.899736</td>\n",
       "      <td>1.510697e+04</td>\n",
       "      <td>1.494309</td>\n",
       "      <td>0.007542</td>\n",
       "      <td>0.234303</td>\n",
       "      <td>3.409430</td>\n",
       "      <td>7.656873</td>\n",
       "      <td>1788.390691</td>\n",
       "      <td>291.509045</td>\n",
       "      <td>1971.005136</td>\n",
       "      <td>84.402258</td>\n",
       "      <td>98077.939805</td>\n",
       "      <td>47.560053</td>\n",
       "      <td>-122.213896</td>\n",
       "      <td>1986.552492</td>\n",
       "      <td>12768.455652</td>\n",
       "    </tr>\n",
       "    <tr>\n",
       "      <th>std</th>\n",
       "      <td>6239.28002</td>\n",
       "      <td>3.671272e+05</td>\n",
       "      <td>0.926657</td>\n",
       "      <td>0.768996</td>\n",
       "      <td>918.440897</td>\n",
       "      <td>4.142051e+04</td>\n",
       "      <td>0.539989</td>\n",
       "      <td>0.086517</td>\n",
       "      <td>0.766318</td>\n",
       "      <td>0.650743</td>\n",
       "      <td>1.175459</td>\n",
       "      <td>828.090978</td>\n",
       "      <td>442.575043</td>\n",
       "      <td>29.373411</td>\n",
       "      <td>401.679240</td>\n",
       "      <td>53.505026</td>\n",
       "      <td>0.138564</td>\n",
       "      <td>0.140828</td>\n",
       "      <td>685.391304</td>\n",
       "      <td>27304.179631</td>\n",
       "    </tr>\n",
       "    <tr>\n",
       "      <th>min</th>\n",
       "      <td>0.00000</td>\n",
       "      <td>7.500000e+04</td>\n",
       "      <td>1.000000</td>\n",
       "      <td>0.500000</td>\n",
       "      <td>290.000000</td>\n",
       "      <td>5.200000e+02</td>\n",
       "      <td>1.000000</td>\n",
       "      <td>0.000000</td>\n",
       "      <td>0.000000</td>\n",
       "      <td>1.000000</td>\n",
       "      <td>1.000000</td>\n",
       "      <td>290.000000</td>\n",
       "      <td>0.000000</td>\n",
       "      <td>1900.000000</td>\n",
       "      <td>0.000000</td>\n",
       "      <td>98001.000000</td>\n",
       "      <td>47.155900</td>\n",
       "      <td>-122.519000</td>\n",
       "      <td>399.000000</td>\n",
       "      <td>651.000000</td>\n",
       "    </tr>\n",
       "    <tr>\n",
       "      <th>25%</th>\n",
       "      <td>5403.00000</td>\n",
       "      <td>3.219500e+05</td>\n",
       "      <td>3.000000</td>\n",
       "      <td>1.750000</td>\n",
       "      <td>1427.000000</td>\n",
       "      <td>5.040000e+03</td>\n",
       "      <td>1.000000</td>\n",
       "      <td>0.000000</td>\n",
       "      <td>0.000000</td>\n",
       "      <td>3.000000</td>\n",
       "      <td>7.000000</td>\n",
       "      <td>1190.000000</td>\n",
       "      <td>0.000000</td>\n",
       "      <td>1951.000000</td>\n",
       "      <td>0.000000</td>\n",
       "      <td>98033.000000</td>\n",
       "      <td>47.471000</td>\n",
       "      <td>-122.328000</td>\n",
       "      <td>1490.000000</td>\n",
       "      <td>5100.000000</td>\n",
       "    </tr>\n",
       "    <tr>\n",
       "      <th>50%</th>\n",
       "      <td>10806.00000</td>\n",
       "      <td>4.500000e+05</td>\n",
       "      <td>3.000000</td>\n",
       "      <td>2.250000</td>\n",
       "      <td>1910.000000</td>\n",
       "      <td>7.618000e+03</td>\n",
       "      <td>1.500000</td>\n",
       "      <td>0.000000</td>\n",
       "      <td>0.000000</td>\n",
       "      <td>3.000000</td>\n",
       "      <td>7.000000</td>\n",
       "      <td>1560.000000</td>\n",
       "      <td>0.000000</td>\n",
       "      <td>1975.000000</td>\n",
       "      <td>0.000000</td>\n",
       "      <td>98065.000000</td>\n",
       "      <td>47.571800</td>\n",
       "      <td>-122.230000</td>\n",
       "      <td>1840.000000</td>\n",
       "      <td>7620.000000</td>\n",
       "    </tr>\n",
       "    <tr>\n",
       "      <th>75%</th>\n",
       "      <td>16209.00000</td>\n",
       "      <td>6.450000e+05</td>\n",
       "      <td>4.000000</td>\n",
       "      <td>2.500000</td>\n",
       "      <td>2550.000000</td>\n",
       "      <td>1.068800e+04</td>\n",
       "      <td>2.000000</td>\n",
       "      <td>0.000000</td>\n",
       "      <td>0.000000</td>\n",
       "      <td>4.000000</td>\n",
       "      <td>8.000000</td>\n",
       "      <td>2210.000000</td>\n",
       "      <td>560.000000</td>\n",
       "      <td>1997.000000</td>\n",
       "      <td>0.000000</td>\n",
       "      <td>98118.000000</td>\n",
       "      <td>47.678000</td>\n",
       "      <td>-122.125000</td>\n",
       "      <td>2360.000000</td>\n",
       "      <td>10083.000000</td>\n",
       "    </tr>\n",
       "    <tr>\n",
       "      <th>max</th>\n",
       "      <td>21612.00000</td>\n",
       "      <td>7.700000e+06</td>\n",
       "      <td>33.000000</td>\n",
       "      <td>8.000000</td>\n",
       "      <td>13540.000000</td>\n",
       "      <td>1.651359e+06</td>\n",
       "      <td>3.500000</td>\n",
       "      <td>1.000000</td>\n",
       "      <td>4.000000</td>\n",
       "      <td>5.000000</td>\n",
       "      <td>13.000000</td>\n",
       "      <td>9410.000000</td>\n",
       "      <td>4820.000000</td>\n",
       "      <td>2015.000000</td>\n",
       "      <td>2015.000000</td>\n",
       "      <td>98199.000000</td>\n",
       "      <td>47.777600</td>\n",
       "      <td>-121.315000</td>\n",
       "      <td>6210.000000</td>\n",
       "      <td>871200.000000</td>\n",
       "    </tr>\n",
       "  </tbody>\n",
       "</table>\n",
       "</div>"
      ],
      "text/plain": [
       "        Unnamed: 0         price      bedrooms     bathrooms   sqft_living  \\\n",
       "count  21613.00000  2.161300e+04  21600.000000  21603.000000  21613.000000   \n",
       "mean   10806.00000  5.400881e+05      3.372870      2.115736   2079.899736   \n",
       "std     6239.28002  3.671272e+05      0.926657      0.768996    918.440897   \n",
       "min        0.00000  7.500000e+04      1.000000      0.500000    290.000000   \n",
       "25%     5403.00000  3.219500e+05      3.000000      1.750000   1427.000000   \n",
       "50%    10806.00000  4.500000e+05      3.000000      2.250000   1910.000000   \n",
       "75%    16209.00000  6.450000e+05      4.000000      2.500000   2550.000000   \n",
       "max    21612.00000  7.700000e+06     33.000000      8.000000  13540.000000   \n",
       "\n",
       "           sqft_lot        floors    waterfront          view     condition  \\\n",
       "count  2.161300e+04  21613.000000  21613.000000  21613.000000  21613.000000   \n",
       "mean   1.510697e+04      1.494309      0.007542      0.234303      3.409430   \n",
       "std    4.142051e+04      0.539989      0.086517      0.766318      0.650743   \n",
       "min    5.200000e+02      1.000000      0.000000      0.000000      1.000000   \n",
       "25%    5.040000e+03      1.000000      0.000000      0.000000      3.000000   \n",
       "50%    7.618000e+03      1.500000      0.000000      0.000000      3.000000   \n",
       "75%    1.068800e+04      2.000000      0.000000      0.000000      4.000000   \n",
       "max    1.651359e+06      3.500000      1.000000      4.000000      5.000000   \n",
       "\n",
       "              grade    sqft_above  sqft_basement      yr_built  yr_renovated  \\\n",
       "count  21613.000000  21613.000000   21613.000000  21613.000000  21613.000000   \n",
       "mean       7.656873   1788.390691     291.509045   1971.005136     84.402258   \n",
       "std        1.175459    828.090978     442.575043     29.373411    401.679240   \n",
       "min        1.000000    290.000000       0.000000   1900.000000      0.000000   \n",
       "25%        7.000000   1190.000000       0.000000   1951.000000      0.000000   \n",
       "50%        7.000000   1560.000000       0.000000   1975.000000      0.000000   \n",
       "75%        8.000000   2210.000000     560.000000   1997.000000      0.000000   \n",
       "max       13.000000   9410.000000    4820.000000   2015.000000   2015.000000   \n",
       "\n",
       "            zipcode           lat          long  sqft_living15     sqft_lot15  \n",
       "count  21613.000000  21613.000000  21613.000000   21613.000000   21613.000000  \n",
       "mean   98077.939805     47.560053   -122.213896    1986.552492   12768.455652  \n",
       "std       53.505026      0.138564      0.140828     685.391304   27304.179631  \n",
       "min    98001.000000     47.155900   -122.519000     399.000000     651.000000  \n",
       "25%    98033.000000     47.471000   -122.328000    1490.000000    5100.000000  \n",
       "50%    98065.000000     47.571800   -122.230000    1840.000000    7620.000000  \n",
       "75%    98118.000000     47.678000   -122.125000    2360.000000   10083.000000  \n",
       "max    98199.000000     47.777600   -121.315000    6210.000000  871200.000000  "
      ]
     },
     "execution_count": 23,
     "metadata": {},
     "output_type": "execute_result"
    }
   ],
   "source": [
    "df.describe()"
   ]
  },
  {
   "cell_type": "code",
   "execution_count": 30,
   "id": "834b7464-fa90-4b1e-9447-5c64fb106d85",
   "metadata": {},
   "outputs": [
    {
     "data": {
      "text/html": [
       "<pre style=\"white-space:pre;overflow-x:auto;line-height:normal;font-family:Menlo,'DejaVu Sans Mono',consolas,'Courier New',monospace\">Using categorical units to plot a list of strings that are all parsable as floats or dates. If these strings should be plotted as numbers, cast to the appropriate data type before plotting.\n",
       "</pre>\n"
      ],
      "text/plain": [
       "Using categorical units to plot a list of strings that are all parsable as floats or dates. If these strings should be plotted as numbers, cast to the appropriate data type before plotting.\n"
      ]
     },
     "metadata": {},
     "output_type": "display_data"
    },
    {
     "data": {
      "text/html": [
       "<pre style=\"white-space:pre;overflow-x:auto;line-height:normal;font-family:Menlo,'DejaVu Sans Mono',consolas,'Courier New',monospace\">Using categorical units to plot a list of strings that are all parsable as floats or dates. If these strings should be plotted as numbers, cast to the appropriate data type before plotting.\n",
       "</pre>\n"
      ],
      "text/plain": [
       "Using categorical units to plot a list of strings that are all parsable as floats or dates. If these strings should be plotted as numbers, cast to the appropriate data type before plotting.\n"
      ]
     },
     "metadata": {},
     "output_type": "display_data"
    },
    {
     "data": {
      "text/plain": [
       "<Axes: xlabel='waterfront', ylabel='price'>"
      ]
     },
     "execution_count": 30,
     "metadata": {},
     "output_type": "execute_result"
    },
    {
     "data": {
      "image/png": "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",
      "text/plain": [
       "<Figure size 640x480 with 1 Axes>"
      ]
     },
     "metadata": {},
     "output_type": "display_data"
    }
   ],
   "source": [
    "sns.boxplot(x=\"waterfront\",y=\"price\", data=df)"
   ]
  },
  {
   "cell_type": "code",
   "execution_count": 50,
   "id": "af45d9ab-f48e-4677-8fbf-ed9173954ddf",
   "metadata": {},
   "outputs": [
    {
     "name": "stdout",
     "output_type": "stream",
     "text": [
      "R_squared: 0.4928532179037931\n"
     ]
    }
   ],
   "source": [
    "x =df[['sqft_living']]\n",
    "y =df[['price']]\n",
    "Im =LinearRegression()\n",
    "Im.fit(x,y)\n",
    "r_squared =Im.score(x,y)\n",
    "print (\"R_squared:\",r_squared)"
   ]
  },
  {
   "cell_type": "code",
   "execution_count": 33,
   "id": "aa8a12a8-4fa6-43a8-af1a-c1c6f4f637d4",
   "metadata": {},
   "outputs": [
    {
     "data": {
      "text/plain": [
       "<Axes: xlabel='sqft_above', ylabel='price'>"
      ]
     },
     "execution_count": 33,
     "metadata": {},
     "output_type": "execute_result"
    },
    {
     "data": {
      "image/png": "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",
      "text/plain": [
       "<Figure size 640x480 with 1 Axes>"
      ]
     },
     "metadata": {},
     "output_type": "display_data"
    }
   ],
   "source": [
    "sns.regplot(x=\"sqft_above\",y=\"price\",data=df)"
   ]
  },
  {
   "cell_type": "code",
   "execution_count": null,
   "id": "b463c65f-4fe4-4be8-9055-42ede5240f0a",
   "metadata": {},
   "outputs": [],
   "source": []
  },
  {
   "cell_type": "code",
   "execution_count": 51,
   "id": "b35b0b7e-34dd-4059-98d9-5a5cc77d57f9",
   "metadata": {},
   "outputs": [
    {
     "name": "stdout",
     "output_type": "stream",
     "text": [
      "R_squared: 0.4928532179037931\n"
     ]
    }
   ],
   "source": [
    "x = df[['sqft_living']]\n",
    "y = df[['price']]\n",
    "\n",
    "lm = LinearRegression()\n",
    "lm.fit(x, y)\n",
    "\n",
    "r_squared = lm.score(x, y)\n",
    "print(\"R_squared:\", r_squared)"
   ]
  },
  {
   "cell_type": "code",
   "execution_count": 52,
   "id": "e0217316-7ee7-4103-9244-ed4df6c26b81",
   "metadata": {},
   "outputs": [
    {
     "name": "stdout",
     "output_type": "stream",
     "text": [
      "0.00046769430149007363\n"
     ]
    }
   ],
   "source": [
    "X = df[['long']]\n",
    "Y = df['price']\n",
    "\n",
    "lm = LinearRegression()\n",
    "lm.fit(X, Y)\n",
    "r_squared = lm.score(X, Y)\n",
    "\n",
    "print(r_squared)"
   ]
  },
  {
   "cell_type": "code",
   "execution_count": 54,
   "id": "03a8ae69-4ad5-439e-8866-21e3674064d6",
   "metadata": {},
   "outputs": [
    {
     "name": "stdout",
     "output_type": "stream",
     "text": [
      "R-squared: 0.4928532179037931\n"
     ]
    }
   ],
   "source": [
    "from sklearn.linear_model import LinearRegression\n",
    "\n",
    "features = [\n",
    "    \"floors\", \"waterfront\", \"lat\", \"bedrooms\", \"sqft_basement\",\n",
    "    \"view\", \"bathrooms\", \"sqft_living15\", \"sqft_above\", \"grade\", \"sqft_living\"\n",
    "]\n",
    "\n",
    "X = df[features]\n",
    "y = df['price']\n",
    "\n",
    "lm = LinearRegression()\n",
    "lm.fit(x, y)\n",
    "\n",
    "r_squared = lm.score(x, y)\n",
    "print(\"R-squared:\", r_squared)"
   ]
  },
  {
   "cell_type": "code",
   "execution_count": 72,
   "id": "63868906-f28c-4369-a687-438442b32eb0",
   "metadata": {},
   "outputs": [],
   "source": [
    "Input = [('scale', StandardScaler()),('polynomial', PolynomialFeatures(include_bias=False)),('model', LinearRegression())]\n"
   ]
  },
  {
   "cell_type": "code",
   "execution_count": 93,
   "id": "f47f9b16-a6d6-42cc-8cea-f7977803e565",
   "metadata": {},
   "outputs": [
    {
     "name": "stdout",
     "output_type": "stream",
     "text": [
      "0.7040280284004656\n"
     ]
    }
   ],
   "source": [
    "pipe = Pipeline([\n",
    "    (\"imp\", SimpleImputer(strategy=\"median\")),\n",
    "    (\"poly\", PolynomialFeatures(degree=2, include_bias=False)),\n",
    "    (\"scaler\", StandardScaler()),\n",
    "    (\"ridge\", Ridge(alpha=0.1)),\n",
    "])\n",
    "\n",
    "pipe.fit(x_train, y_train)\n",
    "print(pipe.score(x_test, y_test))"
   ]
  },
  {
   "cell_type": "code",
   "execution_count": 74,
   "id": "bc52ccb4-86e6-4b39-bbd7-f56473a3629b",
   "metadata": {},
   "outputs": [
    {
     "name": "stdout",
     "output_type": "stream",
     "text": [
      "done\n"
     ]
    }
   ],
   "source": [
    "from sklearn.model_selection import cross_val_score\n",
    "from sklearn.model_selection import train_test_split\n",
    "print(\"done\")"
   ]
  },
  {
   "cell_type": "code",
   "execution_count": 75,
   "id": "a9c513a0-5fce-4e5a-9d4a-4b6075a15eea",
   "metadata": {},
   "outputs": [
    {
     "name": "stdout",
     "output_type": "stream",
     "text": [
      "number of test samples: 3242\n",
      "number of training samples: 18371\n"
     ]
    }
   ],
   "source": [
    "features = [\"floors\", \"waterfront\", \"lat\", \"bedrooms\", \"sqft_basement\", \"view\", \"bathrooms\", \"sqft_living15\", \"sqft_above\", \"grade\", \"sqft_living\"]\n",
    "X = df[features]\n",
    "Y = df['price']\n",
    "\n",
    "x_train, x_test, y_train, y_test = train_test_split(X, Y, test_size=0.15, random_state=1)\n",
    "\n",
    "print(\"number of test samples:\", x_test.shape[0])\n",
    "print(\"number of training samples:\", x_train.shape[0])"
   ]
  },
  {
   "cell_type": "code",
   "execution_count": 91,
   "id": "0bc2cee7-dfd8-455a-a255-d1385fe9bf15",
   "metadata": {},
   "outputs": [
    {
     "name": "stdout",
     "output_type": "stream",
     "text": [
      "R^2: 0.6478967743507853\n"
     ]
    }
   ],
   "source": [
    "imputer = SimpleImputer(strategy=\"median\")\n",
    "x_train_imp = imputer.fit_transform(x_train)\n",
    "x_test_imp = imputer.transform(x_test)\n",
    "\n",
    "ridge = Ridge(alpha=0.1)\n",
    "ridge.fit(x_train_imp, y_train)\n",
    "R_squared = ridge.score(x_test_imp, y_test)\n",
    "print(\"R^2:\", R_squared)"
   ]
  },
  {
   "cell_type": "code",
   "execution_count": 81,
   "id": "0d92b9f9-9c01-419e-b7bf-5d9e3a24dad1",
   "metadata": {},
   "outputs": [
    {
     "name": "stdout",
     "output_type": "stream",
     "text": [
      "R^2 (Q10): 0.7040280284004656\n"
     ]
    }
   ],
   "source": [
    "poly_ridge = make_pipeline(SimpleImputer(strategy=\"median\"),\n",
    "                           PolynomialFeatures(degree=2, include_bias=False),\n",
    "                           StandardScaler(),\n",
    "                           Ridge(alpha=0.1))\n",
    "poly_ridge.fit(x_train, y_train)\n",
    "print(\"R^2 (Q10):\", poly_ridge.score(x_test, y_test))"
   ]
  },
  {
   "cell_type": "code",
   "execution_count": 85,
   "id": "74e8ec4d-2500-412c-a920-9ea3c0829379",
   "metadata": {},
   "outputs": [
    {
     "name": "stdout",
     "output_type": "stream",
     "text": [
      "R^2 (Q9): 0.6479043526976869\n"
     ]
    }
   ],
   "source": [
    "features = [\"floors\",\"waterfront\",\"lat\",\"bedrooms\",\"sqft_basement\",\"view\",\"bathrooms\",\"sqft_living15\",\"sqft_above\",\"grade\",\"sqft_living\"]\n",
    "X = df[features]\n",
    "y = df[\"price\"]\n",
    "\n",
    "x_train, x_test, y_train, y_test = train_test_split(X, y, test_size=0.15, random_state=1)\n",
    "ridge_pipe = make_pipeline(SimpleImputer(strategy=\"median\"), StandardScaler(), Ridge(alpha=0.1))\n",
    "ridge_pipe.fit(x_train, y_train)\n",
    "print(\"R^2 (Q9):\", ridge_pipe.score(x_test, y_test))"
   ]
  },
  {
   "cell_type": "code",
   "execution_count": 86,
   "id": "2b8dd6f6-6e9a-4177-95b5-535dc933c741",
   "metadata": {},
   "outputs": [
    {
     "name": "stdout",
     "output_type": "stream",
     "text": [
      "R^2 (Q10): 0.7040280284004656\n"
     ]
    }
   ],
   "source": [
    "poly_ridge = make_pipeline(SimpleImputer(strategy=\"median\"),\n",
    "                           PolynomialFeatures(degree=2, include_bias=False),\n",
    "                           StandardScaler(),\n",
    "                           Ridge(alpha=0.1))\n",
    "poly_ridge.fit(x_train, y_train)\n",
    "print(\"R^2 (Q10):\", poly_ridge.score(x_test, y_test))"
   ]
  },
  {
   "cell_type": "code",
   "execution_count": null,
   "id": "8d39b203-8fc1-4ad0-ab2a-d86235989340",
   "metadata": {},
   "outputs": [],
   "source": []
  }
 ],
 "metadata": {
  "kernelspec": {
   "display_name": "Python [conda env:base]",
   "language": "python",
   "name": "conda-base-py"
  },
  "language_info": {
   "codemirror_mode": {
    "name": "ipython",
    "version": 3
   },
   "file_extension": ".py",
   "mimetype": "text/x-python",
   "name": "python",
   "nbconvert_exporter": "python",
   "pygments_lexer": "ipython3",
   "version": "3.13.5"
  }
 },
 "nbformat": 4,
 "nbformat_minor": 5
}
   "source": [
    "rm = Ridge(alpha=0.1)\n",
    "rm.fit(x_train, y_train)\n",
    "rm.score(x_test, y_test)"
   ]
  },
  {
   "cell_type": "markdown",
   "metadata": {},
   "source": [
    "<details>\n",
    "    <summary>Click here for Solution</summary>\n",
    "\n",
    "```python\n",
    "# x_train, x_test, y_train, y_test hold same values as in previous cells\n",
    "RidgeModel=Ridge(alpha=0.1)\n",
    "RidgeModel.fit(x_train, y_train)\n",
    "yhat = RidgeModel.predict(x_test)\n",
    "print(r2_score(y_test,yhat))\n",
    "```\n",
    "</details>\n"
   ]
  },
  {
   "cell_type": "markdown",
   "metadata": {},
   "source": [
    "Apply polynomial transformation to the training parameters with degree=2. Use this transformed feature set to fit the same regression model, as above, using the training subset. Print the $ R^2 $ score for the testing subset.\n"
   ]
  },
  {
   "cell_type": "code",
   "execution_count": 131,
   "metadata": {},
   "outputs": [
    {
     "data": {
      "text/plain": [
       "0.8410037679926456"
      ]
     },
     "execution_count": 131,
     "metadata": {},
     "output_type": "execute_result"
    }
   ],
   "source": [
    "pf=PolynomialFeatures(degree=2, include_bias=False)\n",
    "x_train_poly=pf.fit_transform(x_train)\n",
    "x_test_poly=pf.fit_transform(x_test)\n",
    "rm.fit(x_train_poly, y_train)\n",
    "rm.score(x_test_poly, y_test)"
   ]
  },
  {
   "cell_type": "markdown",
   "metadata": {},
   "source": [
    "<details>\n",
    "    <summary>Click here for Solution</summary>\n",
    "\n",
    "```python\n",
    "# x_train, x_test, y_train, y_test hold same values as in previous cells\n",
    "pr = PolynomialFeatures(degree=2)\n",
    "x_train_pr = pr.fit_transform(x_train)\n",
    "x_test_pr = pr.fit_transform(x_test)\n",
    "RidgeModel.fit(x_train_pr, y_train)\n",
    "y_hat = RidgeModel.predict(x_test_pr)\n",
    "print(r2_score(y_test,y_hat))\n",
    "```\n",
    "</details>\n"
   ]
  },
  {
   "cell_type": "markdown",
   "metadata": {},
   "source": [
    "# Congratulations! You have completed this project\n"
   ]
  },
  {
   "cell_type": "markdown",
   "metadata": {},
   "source": [
    "## Authors\n"
   ]
  },
  {
   "cell_type": "markdown",
   "metadata": {},
   "source": [
    "[Abhishek Gagneja](https://www.coursera.org/instructor/~129186572)\n",
    "\n",
    "[Vicky Kuo](https://author.skills.network/instructors/vicky_kuo)\n"
   ]
  },
  {
   "cell_type": "markdown",
   "metadata": {},
   "source": [
    "## Change Log\n"
   ]
  },
  {
   "cell_type": "markdown",
   "metadata": {},
   "source": [
    "|Date (YYYY-MM-DD)|Version|Changed By|Change Description|\n",
    "|-|-|-|-|\n",
    "|2023-09-16|0.1|Abhishek Gagneja|Initial Version Created|\n",
    "|2023-09-19|0.2|Vicky Kuo|Reviewed and Revised|\n"
   ]
  },
  {
   "cell_type": "markdown",
   "metadata": {},
   "source": [
    "<h3> Copyright © 2023 IBM Corporation. All rights reserved. </h3>\n"
   ]
  }
 ],
 "metadata": {
  "kernelspec": {
   "display_name": "Python 3 (ipykernel)",
   "language": "python",
   "name": "python3"
  },
  "language_info": {
   "codemirror_mode": {
    "name": "ipython",
    "version": 3
   },
   "file_extension": ".py",
   "mimetype": "text/x-python",
   "name": "python",
   "nbconvert_exporter": "python",
   "pygments_lexer": "ipython3",
   "version": "3.12.2"
  }
 },
 "nbformat": 4,
 "nbformat_minor": 4
}
